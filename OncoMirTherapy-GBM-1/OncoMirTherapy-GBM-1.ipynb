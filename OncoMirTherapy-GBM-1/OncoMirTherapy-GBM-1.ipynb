{
 "cells": [
  {
   "cell_type": "code",
   "execution_count": null,
   "id": "0c8bc090",
   "metadata": {},
   "outputs": [],
   "source": [
    "if (!requireNamespace(\"BiocManager\", quietly = TRUE))\n",
    "install.packages(\"BiocManager\")\n",
    "\n",
    "if (!requireNamespace(\"GEOmetadb\", quietly = TRUE))\n",
    "BiocManager::install(\"GEOmetadb\")\n",
    "if (!requireNamespace(\"edgeR\"))\n",
    "    install.packages(\"edgeR\", quietly=TRUE)\n",
    "\n",
    "\n",
    "#edgeR package was not avaialabe at CRAN so I tried bioconductor instead\n",
    "if (!require(\"BiocManager\", quietly = TRUE))\n",
    "    install.packages(\"BiocManager\")\n",
    "\n",
    "BiocManager::install(\"edgeR\")"
   ]
  },
  {
   "cell_type": "markdown",
   "id": "f670fa23",
   "metadata": {},
   "source": [
    "\n",
    "\n",
    "\n",
    "# Load Required Packages\n"
   ]
  },
  {
   "cell_type": "code",
   "execution_count": null,
   "id": "e1b0e721",
   "metadata": {},
   "outputs": [],
   "source": [
    "library(GEOmetadb)\n",
    "library(BiocManager)\n",
    "library(knitr)\n",
    "library(edgeR)\n",
    "library(dplyr)\n",
    "library(kableExtra)\n",
    "library(biomaRt)"
   ]
  },
  {
   "cell_type": "markdown",
   "id": "3aaf575b",
   "metadata": {},
   "source": [
    "\n",
    "### INTRODUCTION\n",
    "\n",
    "# Article Title: Anti-seed PNAs targeting multiple oncomiRs for brain tumor therapy[@wang2023anti], \n",
    "\n",
    "# Importance : \n",
    "Brain tumors represent a critical medical challenge due to their high lethality. This research explores the modulation of a complex gene network by two microRNAs (miRNAs) and examines the effects of targeting these miRNAs on gene expression. Additionally, it highlights the potential of using short (8-mer) γ-modified peptide nucleic acids (PNAs) as an indirect method to modify gene expression, offering promising avenues for future gene therapy.\n",
    "\n",
    "# Conclusion: \n",
    "Our findings indicate that bioengineered nanoparticle systems (BNPs) carrying anti-seed γ-modified peptide nucleic acids (sγPNAs) targeting various oncogenic microRNAs (oncomiRs) offer a viable strategy for enhancing glioblastoma multiforme (GBM) therapy. This approach also holds the potential for tailoring treatments to individual patients by targeting tumor-specific oncomiRs[@wang2023anti]\n",
    "\n",
    "\n",
    "### FETCHING THE DATASET : GSE217366\n"
   ]
  },
  {
   "cell_type": "code",
   "execution_count": null,
   "id": "627eb7fd",
   "metadata": {},
   "outputs": [],
   "source": [
    "gse <- getGEO(\"GSE217366\",GSEMatrix=FALSE)\n",
    "sfiles = getGEOSuppFiles('GSE217366')\n",
    "fnames = rownames(sfiles)\n",
    "ExpDataset = read.delim(fnames[1],header=TRUE,\n",
    "check.names = FALSE) \n",
    "#we need to set check.names to false in order to avoid changing of col names if there are special characters in col names. We ensure this way that we don't lose information associated with our data\n",
    "\n",
    "\n",
    "#number of genes in our dataset\n",
    "dim(ExpDataset)"
   ]
  },
  {
   "cell_type": "markdown",
   "id": "333297a9",
   "metadata": {},
   "source": [
    "\n",
    "### DATA CLEANING\n",
    "\n",
    "\n",
    "\n",
    "## Define Groups :\n",
    "There are 2 groups in our study : Condition and Replicate. The last character in our sample names indicate the replicate number. \n"
   ]
  },
  {
   "cell_type": "code",
   "execution_count": null,
   "id": "f9d08ae5",
   "metadata": {},
   "outputs": [],
   "source": [
    "#Split our sample names in 2 by splitting on the last character.\n",
    "SamplesInfo <- data.frame(lapply(colnames(ExpDataset)[2:13], \n",
    "                                  FUN=function(x){unlist(strsplit(x, \"(?<=.)(?=[^.]$)\", perl=TRUE))[c(1,2)]}))\n",
    "\n",
    "#Name the two new groups as Condition and Replicate\n",
    "colnames(SamplesInfo) <- colnames(ExpDataset)[2:13]\n",
    "rownames(SamplesInfo) <- c(\"Condition\", \"replicate\")\n",
    "\n",
    "#Transform our data set into data frame\n",
    "SamplesInfo <- data.frame(t(SamplesInfo))\n",
    "\n",
    "#Visualize the two new groups and assignmed sample names\n",
    "SamplesInfo"
   ]
  },
  {
   "cell_type": "markdown",
   "id": "31ef4a56",
   "metadata": {},
   "source": [
    "\n",
    "\n",
    "## Check For Duplication\n"
   ]
  },
  {
   "cell_type": "code",
   "execution_count": null,
   "id": "dde29f0d",
   "metadata": {},
   "outputs": [],
   "source": [
    "#to find duplicated genes we need to create summary of genes table\n",
    "summarized_gene_counts <- sort(table(ExpDataset$gene_name),\n",
    "decreasing = TRUE)\n",
    "kable(summarized_gene_counts[which(summarized_gene_counts>1)[1:10]],)"
   ]
  },
  {
   "cell_type": "markdown",
   "id": "9784a49d",
   "metadata": {},
   "source": [
    "\n",
    "\n",
    "## Remove Low Count Genes\n"
   ]
  },
  {
   "cell_type": "code",
   "execution_count": null,
   "id": "0a9233bb",
   "metadata": {},
   "outputs": [],
   "source": [
    "#to filter out noise meaning low count genes translate out counts into counts per million using the edgeR package function cpm\n",
    "\n",
    "cpms = cpm(ExpDataset[,2:13])\n",
    "rownames(cpms) <- ExpDataset[,1]\n",
    "\n",
    "# get rid of low counts\n",
    "keep = rowSums(cpms >1) >=3\n",
    "ExpDataset_filtered = ExpDataset[keep,]"
   ]
  },
  {
   "cell_type": "code",
   "execution_count": null,
   "id": "4314df90",
   "metadata": {},
   "outputs": [],
   "source": [
    "#Did we manage to reduce gene duplication?\n",
    "dim(ExpDataset_filtered)\n",
    "dim(ExpDataset)\n",
    "\n",
    "\n",
    "summarized_gene_counts_filtered <- sort(table(ExpDataset_filtered$gene_name),\n",
    "decreasing = TRUE)\n",
    "kable(summarized_gene_counts_filtered[\n",
    "which(summarized_gene_counts_filtered>1)[1:10]], format = \"html\")\n",
    "\n",
    "#we got rid of almost all of the gene duplications except in 3 genes named : AHRR, HSPA14 and TBCE"
   ]
  },
  {
   "cell_type": "markdown",
   "id": "2863573e",
   "metadata": {},
   "source": [
    "\n",
    "\n",
    "\n",
    "### NORMALIZATION \n"
   ]
  },
  {
   "cell_type": "code",
   "execution_count": null,
   "id": "cf708cc0",
   "metadata": {},
   "outputs": [],
   "source": [
    "#First, we visualize our data in boxplot\n",
    "data2plot <- log2(cpm(ExpDataset_filtered[,2:13]))\n",
    "boxplot(data2plot, xlab = \"Samples\", ylab = \"log2 CPM\",\n",
    "las = 2, cex = 0.5, cex.lab = 0.5,\n",
    "cex.axis = 0.5, main = \"U87 cells Treated with BNP\")\n",
    "\n",
    "#draw the median on each box plot\n",
    "abline(h = median(apply(data2plot, 2, median)),\n",
    "col = \"green\", lwd = 0.6, lty = \"dashed\")"
   ]
  },
  {
   "cell_type": "code",
   "execution_count": null,
   "id": "c2de34af",
   "metadata": {},
   "outputs": [],
   "source": [
    "#Next, we draw a density plot\n",
    "counts_density <- apply(log2(cpm(ExpDataset_filtered[,2:13])),\n",
    "2, density)\n",
    "\n",
    "#calculate the limits across all the samples\n",
    "xlim <- 0; ylim <- 0\n",
    "for (i in 1:length(counts_density)) {\n",
    "xlim <- range(c(xlim, counts_density[[i]]$x));\n",
    "ylim <- range(c(ylim, counts_density[[i]]$y))\n",
    "}\n",
    "cols <- rainbow(length(counts_density))\n",
    "ltys <- rep(1, length(counts_density))\n",
    "\n",
    "#plot the first density plot to initialize the plot\n",
    "plot(counts_density[[1]], xlim=xlim, ylim=ylim, type=\"n\",\n",
    "ylab=\"Smoothing density of log2-CPM\",\n",
    "main=\"Expression Density Plot\", cex.lab = 0.85,)\n",
    "\n",
    "#plot each line\n",
    "for (i in 1:length(counts_density))\n",
    "lines(counts_density[[i]], col=cols[i], lty=ltys[i])\n",
    "\n",
    "#create legend\n",
    "legend(\"topright\", colnames(data2plot),\n",
    "col=cols, lty=ltys, cex=0.75,\n",
    "border =\"blue\", text.col = \"green4\",\n",
    "merge = TRUE, bg = \"gray90\")"
   ]
  },
  {
   "cell_type": "markdown",
   "id": "d1549da5",
   "metadata": {},
   "source": [
    "\n",
    "\n",
    "## Normalization by TMM\n"
   ]
  },
  {
   "cell_type": "code",
   "execution_count": null,
   "id": "24c36c52",
   "metadata": {},
   "outputs": [],
   "source": [
    "filtered_data_matrix <- as.matrix(ExpDataset_filtered[,2:13])\n",
    "rownames(filtered_data_matrix) <- ExpDataset_filtered$geneID\n",
    "d = DGEList(counts=filtered_data_matrix, group = SamplesInfo$Condition)\n",
    "\n",
    "d = calcNormFactors(d)\n",
    "#get the normalized data\n",
    "normalized_counts <- cpm(d)"
   ]
  },
  {
   "cell_type": "markdown",
   "id": "cdd5dac0",
   "metadata": {},
   "source": [
    "\n",
    "\n",
    "# Compare normalized and pre-normalized data :\n"
   ]
  },
  {
   "cell_type": "code",
   "execution_count": null,
   "id": "bc0df7dc",
   "metadata": {},
   "outputs": [],
   "source": [
    "# pre-normalized Density Plot\n",
    "counts_density <- apply(log2(cpm(ExpDataset_filtered[,2:13])),\n",
    "2, density)\n",
    "#calculate the limits across all the samples\n",
    "xlim <- 0; ylim <- 0\n",
    "for (i in 1:length(counts_density)) {\n",
    "xlim <- range(c(xlim, counts_density[[i]]$x));\n",
    "ylim <- range(c(ylim, counts_density[[i]]$y))\n",
    "}\n",
    "cols <- rainbow(length(counts_density))\n",
    "ltys <- rep(1, length(counts_density))\n",
    "\n",
    "plot(counts_density[[1]], xlim=xlim, ylim=ylim, type=\"n\",\n",
    "ylab=\"Smoothing density of log2-CPM\",\n",
    "main=\"Pre-Normalized Density Plot\", cex.lab = 0.85)\n",
    "#plot each line\n",
    "for (i in 1:length(counts_density))\n",
    "lines(counts_density[[i]], col=cols[i], lty=ltys[i])\n",
    "#create legend\n",
    "legend(\"topright\", colnames(data2plot),\n",
    "col=cols, lty=ltys, cex=0.75,\n",
    "border =\"blue\", text.col = \"green4\",\n",
    "merge = TRUE, bg = \"gray90\")\n",
    "\n",
    "\n",
    "\n",
    "\n",
    "# normalized Density Plot\n",
    "normalized_counts_density <- apply(log2(cpm(d)),\n",
    "2, density)\n",
    "#calculate the limits across all the samples\n",
    "xlim <- 0; ylim <- 0\n",
    "for (i in 1:length(normalized_counts_density)) {\n",
    "xlim <- range(c(xlim, normalized_counts_density[[i]]$x));\n",
    "ylim <- range(c(ylim, normalized_counts_density[[i]]$y))\n",
    "}\n",
    "cols <- rainbow(length(normalized_counts_density))\n",
    "ltys <- rep(1, length(normalized_counts_density))\n",
    "\n",
    "plot(normalized_counts_density[[1]], xlim=xlim, ylim=ylim, type=\"n\",\n",
    "ylab=\"Smoothing density of log2-CPM\",\n",
    "main=\"Normalized Density Plot\", cex.lab = 0.85)\n",
    "#plot each line\n",
    "for (i in 1:length(normalized_counts_density))\n",
    "lines(normalized_counts_density[[i]], col=cols[i], lty=ltys[i])\n",
    "#create legend\n",
    "legend(\"topright\", colnames(data2plot),\n",
    "col=cols, lty=ltys, cex=0.75,\n",
    "border =\"blue\", text.col = \"green4\",\n",
    "merge = TRUE, bg = \"gray90\")\n",
    "\n",
    "\n",
    "\n",
    "# Pre-Normalized Boxplot\n",
    "data2plot <- log2(cpm(ExpDataset_filtered[,2:13]))\n",
    "boxplot(data2plot, xlab = \"Samples\", ylab = \"log2 CPM\",\n",
    "las = 2, cex = 0.5, cex.lab = 0.5,\n",
    "cex.axis = 0.5, main = \"boxplot before normalization\")\n",
    "#draw the median on each box plot\n",
    "abline(h = median(apply(data2plot, 2, median)),\n",
    "col = \"green\", lwd = 0.6, lty = \"dashed\")\n",
    "\n",
    "\n",
    "\n",
    "# Normalized Boxplot\n",
    "data2plot <- log2(cpm(d))\n",
    "boxplot(data2plot, xlab = \"Samples\", ylab = \"log2 CPM\",\n",
    "las = 2, cex = 0.5, cex.lab = 0.5,\n",
    "cex.axis = 0.5, main = \"Boxplot after normalization\")\n",
    "#draw the median on each box plot\n",
    "abline(h = median(apply(data2plot, 2, median)),\n",
    "col = \"green\", lwd = 0.6, lty = \"dashed\")\n",
    "\n",
    "#Result : TMM Normalization did not significantly change our data set but reduced noise to some degree"
   ]
  },
  {
   "cell_type": "code",
   "execution_count": null,
   "id": "35c25424",
   "metadata": {},
   "outputs": [],
   "source": [
    "plotMDS(d, labels=rownames(SamplesInfo),\n",
    "col = c(\"darkgreen\",\"blue\",\"red\"),main = \"MDS plot after normalization\")\n",
    "\n",
    "#we can see that samples are not clustered together. NICE!, we can use condition as the only factor affecting expression. WE are comparing A to B and clearly our samples our very different from each other"
   ]
  },
  {
   "cell_type": "code",
   "execution_count": null,
   "id": "e92dc4d6",
   "metadata": {},
   "outputs": [],
   "source": [
    "plotMDS(cpm(ExpDataset_filtered[,2:13]), labels=rownames(SamplesInfo),\n",
    "col = c(\"darkgreen\",\"blue\",\"red\"),main = \"MDS plot before normalization\")\n",
    "\n",
    "#Comparing MDS plot before and after normalization shows us that normalization was successful in reducing the clustering of our data"
   ]
  },
  {
   "cell_type": "markdown",
   "id": "9faa35ed",
   "metadata": {},
   "source": [
    "\n",
    "\n",
    "\n",
    "### DISPERSION :\n"
   ]
  },
  {
   "cell_type": "code",
   "execution_count": null,
   "id": "3857277b",
   "metadata": {},
   "outputs": [],
   "source": [
    "#estimate common and tagwise dispersion\n",
    "model_design <- model.matrix(~SamplesInfo$Condition\n",
    "+ SamplesInfo$replicate+0)\n",
    "d <- estimateDisp(d, model_design)\n",
    "\n",
    "#Now let's graph BCV\n",
    "plotBCV(d,col.tagwise = \"black\",col.common = \"red\",)\n",
    "\n",
    "#AS expected we can see that dispersion decreases with increasing CPM"
   ]
  },
  {
   "cell_type": "code",
   "execution_count": null,
   "id": "4cad6b1e",
   "metadata": {},
   "outputs": [],
   "source": [
    "#we can also visualize this phenomenon by plotting Mean vs. Variance\n",
    "plotMeanVar(d, show.raw.vars = TRUE, show.tagwise.vars=TRUE,\n",
    "show.ave.raw.vars = TRUE,\n",
    "NBline=TRUE,\n",
    "show.binned.common.disp.vars = TRUE)"
   ]
  },
  {
   "cell_type": "markdown",
   "id": "51bda62f",
   "metadata": {},
   "source": [
    "\n",
    "### MAPPING\n"
   ]
  },
  {
   "cell_type": "code",
   "execution_count": null,
   "id": "42e769f8",
   "metadata": {},
   "outputs": [],
   "source": [
    "ensembl <- useMart(\"ensembl\")\n",
    "#List ensembl dataset and define it as dataset\n",
    "datasets <- listDatasets(ensembl)\n",
    "ensembl = useDataset(\"hsapiens_gene_ensembl\",mart=ensembl)"
   ]
  },
  {
   "cell_type": "code",
   "execution_count": null,
   "id": "2e68c3a3",
   "metadata": {},
   "outputs": [],
   "source": [
    "#Look for ensembl gene_id associated with human\n",
    "biomart_human_filters <- listFilters(ensembl)\n",
    "kable(biomart_human_filters[\n",
    "grep(biomart_human_filters$name,pattern=\"ensembl\"),],\n",
    "format=\"html\") %>%\n",
    "row_spec(1, background = \"yellow\")\n",
    "#Look for HUGO gene symbol\n",
    "kable(searchAttributes(mart = ensembl, 'hgnc') , format=\"html\")%>%\n",
    "row_spec(2, background = \"yellow\")"
   ]
  },
  {
   "cell_type": "code",
   "execution_count": null,
   "id": "d877d37a",
   "metadata": {},
   "outputs": [],
   "source": [
    "#Now that we have found the correct attributes, which are \"ensembl_gene_id\" And \"hgnc_symbol\", we map the geneID to HGCN symbol\n",
    "conversion_stash <- \"ca125_id_conversion.rds\"\n",
    "if(file.exists(conversion_stash)){\n",
    "ca125_id_conversion <- readRDS(conversion_stash)\n",
    "} else {\n",
    "ca125_id_conversion <- getBM(attributes = c(\"ensembl_gene_id\",\"hgnc_symbol\"),\n",
    "                            filters = c(\"ensembl_gene_id\"),\n",
    "                            values = ExpDataset_filtered$geneID,\n",
    "                            mart = ensembl)\n",
    "saveRDS(ca125_id_conversion, conversion_stash)\n",
    "}"
   ]
  },
  {
   "cell_type": "code",
   "execution_count": null,
   "id": "92361689",
   "metadata": {},
   "outputs": [],
   "source": [
    "#Total number of geneslost after mapping\n",
    "nrow(normalized_counts) - nrow(ca125_id_conversion)\n",
    "\n",
    "#we have lost only 41 genes when mapping"
   ]
  },
  {
   "cell_type": "code",
   "execution_count": null,
   "id": "21e374ef",
   "metadata": {},
   "outputs": [],
   "source": [
    "#Next, we merge our new identifiers\n",
    "normalized_counts_annot <- merge(ca125_id_conversion,normalized_counts, by.x = 1, by.y = 0, all.y = TRUE)\n",
    "\n",
    "#And we can visualize part of the results as a table\n",
    "kable(normalized_counts_annot[1:5,1:5],type = \"html\")\n",
    "\n",
    "#To calculate number of missing identifiers I calculate which one of our normalized counts does not have a HGNC symbol.\n",
    "ensembl_id_missing_gene <- normalized_counts_annot$ensembl_gene_id[\n",
    "which(is.na(normalized_counts_annot$hgnc_symbol))]\n",
    "length(ensembl_id_missing_gene)"
   ]
  },
  {
   "cell_type": "code",
   "execution_count": null,
   "id": "867a51a7",
   "metadata": {},
   "outputs": [],
   "source": [
    "#Let's take a look at the missing genes that were not mapped to these new identifiers\n",
    "old_mapping <- merge(ExpDataset[,1:14],data.frame(ensembl_id_missing_gene), all.y = TRUE, by.x = 1, by.y = 1)\n",
    "kable(old_mapping, type=\"html\")"
   ]
  },
  {
   "cell_type": "markdown",
   "id": "719c996e",
   "metadata": {},
   "source": [
    "\n",
    "\n",
    "### INTERPRETATION\n",
    "\n",
    "# DataSet : \n",
    "The controls are defined as Control1,Control2 and Control3 which reflect the three replicates of U87 cells as our control group. The test conditions are U87 cells that have been treated with BNP containing sgPNA-10b\n",
    "or sgPNA-21 or combination of BNP loaded with sgPNA-21 and sgPNA-10b for 72 hours. These test conditions are defined as PNA10b, PNA21 and PNA10b+21 and each have 3 replicates. The data set is composed of : 35741 samples with unique identifier that are Either Control (with 3 replicates) or Test (PNA10b,PNA21,PNA10b+21) each with 3 replicates \n",
    "\n",
    "\n",
    "\n",
    "\n",
    "# Data Cleaning\n",
    "There were many gene_ID duplication in our data set. Upon eliminating duplications, only three genes—AHRR, HSPA14, and TBCE—exhibited duplication events. Given the limited number of duplications, the project can proceed without further adjustment.\n",
    "\n",
    "A total of 42 expression values were not mapped to HUGO symbols, and a comprehensive list of these values has been provided. Following the exclusion of genes with low counts, 21,344 genes were eliminated. Notably, some outliers were not depicted in the box plots presented in this report.\n",
    "\n",
    "\n",
    "Each condition was represented by three independent replicates. Analysis of the MDS plot revealed that samples sharing the same conditions clustered together, indicating consistent replicate behavior across conditions.\n",
    "`\n",
    "\n",
    "```\n",
    "\n",
    "```{r}\n"
   ]
  }
 ],
 "metadata": {},
 "nbformat": 4,
 "nbformat_minor": 5
}
